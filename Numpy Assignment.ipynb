{
 "cells": [
  {
   "cell_type": "markdown",
   "metadata": {},
   "source": [
    "### 1. Write a function so that the columns of the output matrix are powers of the input vector. The order of the powers is determined by the increasing boolean argument. Specifically, when increasing is False, the i-th output column is the input vector raised element-wise to the power of N - i - 1."
   ]
  },
  {
   "cell_type": "code",
   "execution_count": 1,
   "metadata": {},
   "outputs": [],
   "source": [
    "import numpy as np"
   ]
  },
  {
   "cell_type": "code",
   "execution_count": 11,
   "metadata": {},
   "outputs": [
    {
     "name": "stdout",
     "output_type": "stream",
     "text": [
      "[[  1   1   1   1   1]\n",
      " [  1   2   4   8  16]\n",
      " [  1   3   9  27  81]\n",
      " [  1   4  16  64 256]\n",
      " [  1   5  25 125 625]]\n",
      "\n",
      " [[  1   1   1   1   1]\n",
      " [ 16   8   4   2   1]\n",
      " [ 81  27   9   3   1]\n",
      " [256  64  16   4   1]\n",
      " [625 125  25   5   1]]\n"
     ]
    }
   ],
   "source": [
    "inp=np.array([1,2,3,4,5])\n",
    "N=5\n",
    "res=np.vander(x,N, increasing = True)\n",
    "print(res)\n",
    "ans=np.column_stack([inp**(N-i-1) for i in range(N)])\n",
    "print('\\n',ans)"
   ]
  },
  {
   "cell_type": "markdown",
   "metadata": {},
   "source": [
    "### Problem Statement:\n",
    "\n",
    " Given a sequence of n values x1, x2, ..., xn and a window size k>0, the k-th moving average of\n",
    " the given sequence is defined as follows:\n",
    " The moving average sequence has n-k+1 elements as shown below.\n",
    " The moving averages with k=4 of a ten-value sequence (n=10) is shown below\n",
    "\n",
    "     i 1 2 3 4 5 6 7 8 9 10\n",
    "     ===== == == == == == == == == == ==\n",
    "     Input 10 20 30 40 50 60 70 80 90 100\n",
    "     y1 25 = (10+20+30+40)/4\n",
    "     y2 35 = (20+30+40+50)/4\n",
    "     y3 45 = (30+40+50+60)/4\n",
    "     y4 55 = (40+50+60+70)/4\n",
    "     y5 65 = (50+60+70+80)/4\n",
    "     y6 75 = (60+70+80+90)/4\n",
    "     y7 85 = (70+80+90+100)/4\n",
    "\n",
    "Thus, the moving average sequence has n-k+1=10-4+1=7 values\n",
    "\n",
    "\n",
    "Question:\n",
    "\n",
    "     Write a function to find moving average in an array over a window:\n",
    "     Test it over [3, 5, 7, 2, 8, 10, 11, 65, 72, 81, 99, 100, 150] and window of 3."
   ]
  },
  {
   "cell_type": "code",
   "execution_count": 14,
   "metadata": {},
   "outputs": [
    {
     "name": "stdout",
     "output_type": "stream",
     "text": [
      "moving average of an array over window size 3 are :- [5.0, 4.67, 5.67, 6.67, 9.67, 28.67, 49.33, 72.67, 84.0, 93.33, 116.33]\n"
     ]
    }
   ],
   "source": [
    "def fun(array,size):\n",
    "    ele=len(array)-size+1\n",
    "    li=[]\n",
    "    for i in range(ele):\n",
    "        a=(array[i]+array[i+1]+array[i+2])/size\n",
    "        g = float(\"{:.2f}\".format(a))\n",
    "        li.append(g)\n",
    "    return li\n",
    "    \n",
    "       \n",
    "array=[3, 5, 7, 2, 8, 10, 11, 65, 72, 81, 99, 100, 150]\n",
    "size=3\n",
    "output=fun(array,size)\n",
    "print('moving average of an array over window size {} are :- {}'.format(size,output))"
   ]
  },
  {
   "cell_type": "code",
   "execution_count": null,
   "metadata": {},
   "outputs": [],
   "source": []
  }
 ],
 "metadata": {
  "kernelspec": {
   "display_name": "Python 3",
   "language": "python",
   "name": "python3"
  },
  "language_info": {
   "codemirror_mode": {
    "name": "ipython",
    "version": 3
   },
   "file_extension": ".py",
   "mimetype": "text/x-python",
   "name": "python",
   "nbconvert_exporter": "python",
   "pygments_lexer": "ipython3",
   "version": "3.8.3"
  }
 },
 "nbformat": 4,
 "nbformat_minor": 4
}
