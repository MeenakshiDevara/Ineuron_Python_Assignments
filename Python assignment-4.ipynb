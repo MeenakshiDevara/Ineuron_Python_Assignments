{
 "cells": [
  {
   "cell_type": "markdown",
   "metadata": {},
   "source": [
    "### 1.1) Write a Python Program(with class concepts) to find the area of the triangle using the below formula.    area = (s(s-a)(s-b)*(s-c)) *** 0.5 .Function to take the length of the sides of triangle from user should be defined in the parent class and function to calculate the area should be defined in subclass.\n"
   ]
  },
  {
   "cell_type": "code",
   "execution_count": 5,
   "metadata": {},
   "outputs": [
    {
     "name": "stdout",
     "output_type": "stream",
     "text": [
      "Enter the first side of triangle : 8\n",
      "Enter the second side of triangle : 12\n",
      "Enter the third side of triangle : 13\n",
      "Area of Triangle is : 46.9993351016799\n"
     ]
    }
   ],
   "source": [
    "class parent:\n",
    "    def __init__(self,a,b,c):\n",
    "        self.a = a\n",
    "        self.b = b\n",
    "        self.c = c\n",
    "        \n",
    "class subclass(parent):\n",
    "    def __init__(self):\n",
    "        pass\n",
    "           \n",
    "    def area_of_triangle(self,a,b,c):\n",
    "        super().__init__(a,b,c)\n",
    "        s = (self.a+self.b+self.c) / 2\n",
    "        Area = (s*(s-self.a)*(s-self.b)*(s-self.c)) ** 0.5\n",
    "        return Area\n",
    "    \n",
    "    \n",
    "x = int(input(\"Enter the first side of triangle : \"))\n",
    "y = int(input(\"Enter the second side of triangle : \"))\n",
    "z = int(input(\"Enter the third side of triangle : \"))\n",
    "\n",
    "\n",
    "area = subclass()  \n",
    "res = area.area_of_triangle(x,y,z)\n",
    "\n",
    "\n",
    "if res != 0:\n",
    "    print('Area of Triangle is : {}'.format(res))\n",
    "else:\n",
    "    print('Triangle is not a valid triangle')\n"
   ]
  },
  {
   "cell_type": "markdown",
   "metadata": {},
   "source": [
    "### 1.2) Write a function filter_long_words() that takes a list of words and an integer n and returns the list of words that are longer than n."
   ]
  },
  {
   "cell_type": "code",
   "execution_count": 13,
   "metadata": {},
   "outputs": [
    {
     "name": "stdout",
     "output_type": "stream",
     "text": [
      "Words longer than length 4 are : ['meena', 'meenakshi', 'Meenakshi devara']\n"
     ]
    }
   ],
   "source": [
    "def filter_long_Word(words,n):\n",
    "    value = []\n",
    "    ans = []\n",
    "    for i in words:\n",
    "        value.append(len(i))\n",
    "    for j in range(len(words)):\n",
    "        if value[j]>n :\n",
    "            ans.append(words[j])        \n",
    "    return ans \n",
    "\n",
    "inp = ['meen','meena','meenakshi','Meenakshi devara']\n",
    "length = 4\n",
    "res = filter_long_Word(inp,length)\n",
    "print('Words longer than length {} are : {}'.format(length,res))"
   ]
  },
  {
   "cell_type": "markdown",
   "metadata": {},
   "source": [
    "### 2.1) Write a Python program using function concept that maps list of words into a list of integers representing the lengths of the corresponding words."
   ]
  },
  {
   "cell_type": "code",
   "execution_count": 18,
   "metadata": {},
   "outputs": [
    {
     "name": "stdout",
     "output_type": "stream",
     "text": [
      "length of the words are : [4, 5, 9, 16]\n"
     ]
    }
   ],
   "source": [
    "def LenOfWords(words):\n",
    "    ans = []\n",
    "    for i in words:\n",
    "        ans.append(len(i))       \n",
    "    return ans \n",
    "\n",
    "inp = ['meen','meena','meenakshi','Meenakshi devara']\n",
    "res = LenOfWords(inp)\n",
    "print('length of the words are : {}'.format(res))"
   ]
  },
  {
   "cell_type": "markdown",
   "metadata": {},
   "source": [
    "### 2.2) Write a Python function which takes a character (i.e. a string of length 1) and returns True if it is a vowel, False otherwise."
   ]
  },
  {
   "cell_type": "code",
   "execution_count": 36,
   "metadata": {},
   "outputs": [
    {
     "name": "stdout",
     "output_type": "stream",
     "text": [
      "Enter the Character : a\n"
     ]
    },
    {
     "data": {
      "text/plain": [
       "True"
      ]
     },
     "execution_count": 36,
     "metadata": {},
     "output_type": "execute_result"
    }
   ],
   "source": [
    "def isvowel(res):\n",
    "    value =['a','e','i','o','u']\n",
    "    res = res.lower()\n",
    "    for i in value:\n",
    "        if res == i:\n",
    "            return True\n",
    "            break\n",
    "    else:\n",
    "        return False\n",
    "    \n",
    "x = input('Enter the Character : ')       \n",
    "ans = isvowel(x)  \n",
    "ans"
   ]
  },
  {
   "cell_type": "code",
   "execution_count": null,
   "metadata": {},
   "outputs": [],
   "source": []
  }
 ],
 "metadata": {
  "kernelspec": {
   "display_name": "Python 3",
   "language": "python",
   "name": "python3"
  },
  "language_info": {
   "codemirror_mode": {
    "name": "ipython",
    "version": 3
   },
   "file_extension": ".py",
   "mimetype": "text/x-python",
   "name": "python",
   "nbconvert_exporter": "python",
   "pygments_lexer": "ipython3",
   "version": "3.8.3"
  }
 },
 "nbformat": 4,
 "nbformat_minor": 4
}
